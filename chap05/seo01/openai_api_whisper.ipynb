{
 "cells": [
  {
   "cell_type": "code",
   "execution_count": 1,
   "id": "469425a1",
   "metadata": {},
   "outputs": [],
   "source": [
    "from openai import OpenAI\n",
    "from dotenv import load_dotenv\n",
    "import os\n",
    "\n",
    "load_dotenv()\n",
    "api_key = os.getenv('API_KEY')\n",
    "client = OpenAI(api_key=api_key)"
   ]
  },
  {
   "cell_type": "code",
   "execution_count": 6,
   "id": "02fe82f0",
   "metadata": {},
   "outputs": [
    {
     "data": {
      "text/plain": [
       "Transcription(text='척추 디스크 비수술 치료 광화문 자생한방병원으로 가실분은 서대문역 6번 출구로 나가시기 바랍니다.', usage={'type': 'duration', 'seconds': 7})"
      ]
     },
     "execution_count": 6,
     "metadata": {},
     "output_type": "execute_result"
    }
   ],
   "source": [
    "audio_file_path = '../audio/광화문자생한방병원_1.mp3'\n",
    "\n",
    "with open(audio_file_path, 'rb') as audio_file:\n",
    "    transcription = client.audio.transcriptions.create(\n",
    "        model='whisper-1',\n",
    "        file=audio_file\n",
    "    )\n",
    "\n",
    "transcription"
   ]
  },
  {
   "cell_type": "code",
   "execution_count": 7,
   "id": "94d5ad78",
   "metadata": {},
   "outputs": [
    {
     "data": {
      "text/plain": [
       "Translation(text='If you want to go to Gwanghwamun Jaseng Hanbang Hospital for a spinal disc non-surgery treatment, please exit exit 6 of Seodaemun Station.')"
      ]
     },
     "execution_count": 7,
     "metadata": {},
     "output_type": "execute_result"
    }
   ],
   "source": [
    "with open(audio_file_path, 'rb') as audio_file:\n",
    "    transcription = client.audio.translations.create(\n",
    "        model='whisper-1',\n",
    "        file=audio_file\n",
    "    )\n",
    "\n",
    "transcription"
   ]
  }
 ],
 "metadata": {
  "kernelspec": {
   "display_name": "venv",
   "language": "python",
   "name": "python3"
  },
  "language_info": {
   "codemirror_mode": {
    "name": "ipython",
    "version": 3
   },
   "file_extension": ".py",
   "mimetype": "text/x-python",
   "name": "python",
   "nbconvert_exporter": "python",
   "pygments_lexer": "ipython3",
   "version": "3.11.9"
  }
 },
 "nbformat": 4,
 "nbformat_minor": 5
}
